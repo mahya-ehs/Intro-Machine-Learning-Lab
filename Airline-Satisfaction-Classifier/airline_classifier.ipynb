{
  "nbformat": 4,
  "nbformat_minor": 0,
  "metadata": {
    "colab": {
      "name": "perecptron-exercise.ipynb",
      "provenance": [],
      "collapsed_sections": []
    },
    "kernelspec": {
      "name": "python3",
      "display_name": "Python 3"
    },
    "language_info": {
      "name": "python"
    }
  },
  "cells": [
    {
      "cell_type": "code",
      "execution_count": null,
      "metadata": {
        "id": "yAQ2aPUXZAeW"
      },
      "outputs": [],
      "source": [
        "import pandas as pd"
      ]
    },
    {
      "cell_type": "markdown",
      "source": [
        "**Importing test and train data**"
      ],
      "metadata": {
        "id": "8_h8XnsWgmwK"
      }
    },
    {
      "cell_type": "code",
      "source": [
        "train_data = pd.read_csv('sample_data/train/train.csv', index_col=0)\n",
        "test_data = pd.read_csv('sample_data/test/test.csv', index_col=0)"
      ],
      "metadata": {
        "id": "kR9x3Oc3ZK-Q"
      },
      "execution_count": null,
      "outputs": []
    },
    {
      "cell_type": "code",
      "source": [
        "train_data = train_data.drop('id', axis=1)\n",
        "test_data = test_data.drop('id', axis=1)"
      ],
      "metadata": {
        "id": "3j5HyL6Qa-Gr"
      },
      "execution_count": null,
      "outputs": []
    },
    {
      "cell_type": "code",
      "source": [
        "train_data.info()"
      ],
      "metadata": {
        "id": "2c-kArCsgJIG"
      },
      "execution_count": null,
      "outputs": []
    },
    {
      "cell_type": "markdown",
      "source": [
        "**handling missing data**"
      ],
      "metadata": {
        "id": "XLo-6ckq0VNX"
      }
    },
    {
      "cell_type": "markdown",
      "source": [
        "first we have to check if there is any missing data in our train and test data. \n",
        "\n",
        "Then, we should fill the missing data with a value."
      ],
      "metadata": {
        "id": "yp4dmJec1XAB"
      }
    },
    {
      "cell_type": "code",
      "source": [
        "train_missingdata = train_data.isnull().sum()\n",
        "test_missingdata = test_data.isnull().sum()"
      ],
      "metadata": {
        "id": "KZpWaofA0X-O"
      },
      "execution_count": null,
      "outputs": []
    },
    {
      "cell_type": "markdown",
      "source": [
        "as a result, there are some missing data in train and test, in the \"Arrival Delay in Minutes\" column. we'll handle it with mean()"
      ],
      "metadata": {
        "id": "OZqiOlhD2pWB"
      }
    },
    {
      "cell_type": "code",
      "source": [
        "train_data['Arrival Delay in Minutes'] = train_data['Arrival Delay in Minutes'].fillna(train_data['Arrival Delay in Minutes'].mean())\n",
        "test_data['Arrival Delay in Minutes'] = test_data['Arrival Delay in Minutes'].fillna(test_data['Arrival Delay in Minutes'].mean())"
      ],
      "metadata": {
        "id": "l-xBahhV21I1"
      },
      "execution_count": null,
      "outputs": []
    },
    {
      "cell_type": "markdown",
      "source": [
        "**labeling non-numerical data**"
      ],
      "metadata": {
        "id": "IPDtbx9h85I2"
      }
    },
    {
      "cell_type": "code",
      "source": [
        "# labeling output as 0 and 1\n",
        "train_data['satisfaction'].replace({'neutral or dissatisfied': 0, 'satisfied': 1}, inplace = True)\n",
        "test_data['satisfaction'].replace({'neutral or dissatisfied': 0, 'satisfied': 1}, inplace=True)"
      ],
      "metadata": {
        "id": "uMOHA8mY89Yr"
      },
      "execution_count": null,
      "outputs": []
    },
    {
      "cell_type": "code",
      "source": [
        "from sklearn.preprocessing import LabelEncoder\n",
        "lencoders = {}\n",
        "for col in train_data.select_dtypes(include=['object']).columns:\n",
        "    lencoders[col] = LabelEncoder()\n",
        "    train_data[col] = lencoders[col].fit_transform(train_data[col])"
      ],
      "metadata": {
        "id": "vosphKrO9E0k"
      },
      "execution_count": null,
      "outputs": []
    },
    {
      "cell_type": "code",
      "source": [
        "lencoders_t = {}\n",
        "for col in test_data.select_dtypes(include=['object']).columns:\n",
        "    lencoders_t[col] = LabelEncoder()\n",
        "    test_data[col] = lencoders_t[col].fit_transform(test_data[col])"
      ],
      "metadata": {
        "id": "ZkAqQslh9NiL"
      },
      "execution_count": null,
      "outputs": []
    },
    {
      "cell_type": "code",
      "source": [
        "X_train =  train_data.drop('satisfaction', axis=1)\n",
        "y_train = train_data['satisfaction']\n",
        "\n",
        "X_test =  test_data.drop('satisfaction', axis=1)\n",
        "y_test = test_data['satisfaction']"
      ],
      "metadata": {
        "id": "f7iKdsUj_BJU"
      },
      "execution_count": null,
      "outputs": []
    },
    {
      "cell_type": "markdown",
      "source": [
        "**normalizing data**"
      ],
      "metadata": {
        "id": "ZtUR1euayjkb"
      }
    },
    {
      "cell_type": "code",
      "source": [
        "from sklearn.preprocessing import StandardScaler\n",
        "\n",
        "sc = StandardScaler()\n",
        "X_train = sc.fit_transform(X_train)\n",
        "X_test = sc.fit_transform(X_test)"
      ],
      "metadata": {
        "id": "nJe-mO1Dyf3n"
      },
      "execution_count": null,
      "outputs": []
    },
    {
      "cell_type": "markdown",
      "source": [
        "**simple Perceptron**"
      ],
      "metadata": {
        "id": "arGYTkcMXxQ_"
      }
    },
    {
      "cell_type": "code",
      "source": [
        "from sklearn.linear_model import Perceptron\n",
        "\n",
        "model = Perceptron()\n",
        "model.fit(X_train, y_train)\n",
        "\n",
        "preds = model.predict(X_test)\n",
        "preds"
      ],
      "metadata": {
        "id": "M75-VTuzX1bV"
      },
      "execution_count": null,
      "outputs": []
    },
    {
      "cell_type": "markdown",
      "source": [
        "**accuracy**"
      ],
      "metadata": {
        "id": "7__lcYPuisVM"
      }
    },
    {
      "cell_type": "code",
      "source": [
        "from sklearn.metrics import accuracy_score\n",
        "\n",
        "acc = accuracy_score(y_test, preds) * 100\n",
        "acc"
      ],
      "metadata": {
        "id": "uY3NgiPUiuzZ"
      },
      "execution_count": null,
      "outputs": []
    },
    {
      "cell_type": "markdown",
      "source": [
        "**kernel perceptron**"
      ],
      "metadata": {
        "id": "6qkrSswuYsGX"
      }
    },
    {
      "cell_type": "code",
      "source": [
        "import numpy as np\n",
        "\n",
        "class KernelPerceptron(object):\n",
        "\n",
        "  def polynomial_kernel(x, y, p=3):\n",
        "    return (1 + np.dot(x, y)) ** p\n",
        "\n",
        "  def __init__(self, eta=0.01, n_iteration=1, kernel=polynomial_kernel):\n",
        "    self.eta = eta\n",
        "    self.n_iteration = n_iteration\n",
        "    self.kernel = kernel\n",
        "\n",
        "  # a function to calculate (1+X[i].X[j])^P and build kernel matrix\n",
        "  def kernelCalculator(self, samples, X_train):\n",
        "    KernelMatrix = np.zeros((samples, samples))\n",
        "    for i in range(samples):\n",
        "      for j in range(samples):\n",
        "        KernelMatrix[i,j] = self.kernel(X_train[i], X_train[j])\n",
        "\n",
        "    return KernelMatrix\n",
        "\n",
        "  def fit(self, X, y):\n",
        "    # total samples=103904 , features=22\n",
        "    n_samples = len(X)\n",
        "    n_features = len(X[0])   \n",
        "\n",
        "    self.alpha = np.zeros(n_samples, dtype=np.float64)\n",
        "\n",
        "    K = self.kernelCalculator(n_samples, X)\n",
        "    for _ in range(self.n_iteration):\n",
        "      for i in range(n_samples):\n",
        "        if np.sign(np.sum(self.alpha * y * K[:,i])) != y[i]:    # if np.sign(np.sum(self.alpha * y * K[:,i])) == -1\n",
        "          self.alpha[i] += 1.0    \n",
        "\n",
        "  #def predict(self, X):\n",
        "    #TODO"
      ],
      "metadata": {
        "id": "YuydtvjrYupD"
      },
      "execution_count": null,
      "outputs": []
    },
    {
      "cell_type": "code",
      "source": [
        "model = KernelPerceptron()\n",
        "model.fit(X_train[:1000], y_train[:1000])\n",
        "#preds = model.predict(X_test[:1000])"
      ],
      "metadata": {
        "id": "1HsSvLNtiXhY"
      },
      "execution_count": null,
      "outputs": []
    }
  ]
}